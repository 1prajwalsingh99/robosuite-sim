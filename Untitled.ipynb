{
 "cells": [
  {
   "cell_type": "code",
   "execution_count": 5,
   "metadata": {},
   "outputs": [
    {
     "ename": "ValueError",
     "evalue": "If using all scalar values, you must pass an index",
     "output_type": "error",
     "traceback": [
      "\u001b[0;31m---------------------------------------------------------------------------\u001b[0m",
      "\u001b[0;31mValueError\u001b[0m                                Traceback (most recent call last)",
      "\u001b[1;32m/home/prajwal/Documents/robosuite/Untitled.ipynb Cell 1'\u001b[0m in \u001b[0;36m<cell line: 36>\u001b[0;34m()\u001b[0m\n\u001b[1;32m     <a href='vscode-notebook-cell:/home/prajwal/Documents/robosuite/Untitled.ipynb#ch0000000?line=45'>46</a>\u001b[0m robo_x, robo_y, robo_z, roll, pitch, yaw, grip \u001b[39m=\u001b[39m obs[\u001b[39m'\u001b[39m\u001b[39mrobot0_joint_pos_cos\u001b[39m\u001b[39m'\u001b[39m]\n\u001b[1;32m     <a href='vscode-notebook-cell:/home/prajwal/Documents/robosuite/Untitled.ipynb#ch0000000?line=46'>47</a>\u001b[0m eff_x, eff_y, eff_z \u001b[39m=\u001b[39m obs[\u001b[39m'\u001b[39m\u001b[39mrobot0_eef_pos\u001b[39m\u001b[39m'\u001b[39m]\n\u001b[0;32m---> <a href='vscode-notebook-cell:/home/prajwal/Documents/robosuite/Untitled.ipynb#ch0000000?line=47'>48</a>\u001b[0m tempDf \u001b[39m=\u001b[39m pd\u001b[39m.\u001b[39;49mDataFrame({\u001b[39m'\u001b[39;49m\u001b[39mLabel\u001b[39;49m\u001b[39m'\u001b[39;49m: df\u001b[39m.\u001b[39;49miloc[\u001b[39m0\u001b[39;49m][\u001b[39m\"\u001b[39;49m\u001b[39mLabel\u001b[39;49m\u001b[39m\"\u001b[39;49m], \u001b[39m'\u001b[39;49m\u001b[39mrelativeCycleTime\u001b[39;49m\u001b[39m'\u001b[39;49m: j\u001b[39m/\u001b[39;49m\u001b[39m200\u001b[39;49m, \u001b[39m'\u001b[39;49m\u001b[39mrobo_pos_cos_x\u001b[39;49m\u001b[39m'\u001b[39;49m: robo_x, \u001b[39m'\u001b[39;49m\u001b[39mrobo_pos_cos_y\u001b[39;49m\u001b[39m'\u001b[39;49m: robo_y, \u001b[39m'\u001b[39;49m\u001b[39mrobo_pos_cos_z\u001b[39;49m\u001b[39m'\u001b[39;49m: robo_z, \u001b[39m'\u001b[39;49m\u001b[39mrobo_pos_cos_roll\u001b[39;49m\u001b[39m'\u001b[39;49m:roll,  \u001b[39m'\u001b[39;49m\u001b[39mrobo_pos_cos_pitch\u001b[39;49m\u001b[39m'\u001b[39;49m: pitch,\n\u001b[1;32m     <a href='vscode-notebook-cell:/home/prajwal/Documents/robosuite/Untitled.ipynb#ch0000000?line=48'>49</a>\u001b[0m \u001b[39m'\u001b[39;49m\u001b[39mrobo_pos_cos_yaw\u001b[39;49m\u001b[39m'\u001b[39;49m: yaw, \u001b[39m'\u001b[39;49m\u001b[39meef_x\u001b[39;49m\u001b[39m'\u001b[39;49m: eff_x, \u001b[39m'\u001b[39;49m\u001b[39meef_y\u001b[39;49m\u001b[39m'\u001b[39;49m: eff_y, \u001b[39m'\u001b[39;49m\u001b[39meef_z\u001b[39;49m\u001b[39m'\u001b[39;49m: eff_z})\n\u001b[1;32m     <a href='vscode-notebook-cell:/home/prajwal/Documents/robosuite/Untitled.ipynb#ch0000000?line=49'>50</a>\u001b[0m tempSeries \u001b[39m=\u001b[39m pd\u001b[39m.\u001b[39mSeries([df\u001b[39m.\u001b[39miloc[\u001b[39m0\u001b[39m][\u001b[39m\"\u001b[39m\u001b[39mLabel\u001b[39m\u001b[39m\"\u001b[39m], j\u001b[39m/\u001b[39m\u001b[39m200\u001b[39m, robo_x, robo_y, robo_z, roll, pitch, yaw, eff_x, eff_y, eff_z], name\u001b[39m=\u001b[39m\u001b[39m'\u001b[39m\u001b[39mtemp\u001b[39m\u001b[39m'\u001b[39m)\n\u001b[1;32m     <a href='vscode-notebook-cell:/home/prajwal/Documents/robosuite/Untitled.ipynb#ch0000000?line=50'>51</a>\u001b[0m newDf \u001b[39m=\u001b[39m newDf\u001b[39m.\u001b[39mmerge(tempDf)\n",
      "File \u001b[0;32m~/Documents/robosuite/.venv/lib/python3.8/site-packages/pandas/core/frame.py:636\u001b[0m, in \u001b[0;36mDataFrame.__init__\u001b[0;34m(self, data, index, columns, dtype, copy)\u001b[0m\n\u001b[1;32m    <a href='file:///home/prajwal/Documents/robosuite/.venv/lib/python3.8/site-packages/pandas/core/frame.py?line=629'>630</a>\u001b[0m     mgr \u001b[39m=\u001b[39m \u001b[39mself\u001b[39m\u001b[39m.\u001b[39m_init_mgr(\n\u001b[1;32m    <a href='file:///home/prajwal/Documents/robosuite/.venv/lib/python3.8/site-packages/pandas/core/frame.py?line=630'>631</a>\u001b[0m         data, axes\u001b[39m=\u001b[39m{\u001b[39m\"\u001b[39m\u001b[39mindex\u001b[39m\u001b[39m\"\u001b[39m: index, \u001b[39m\"\u001b[39m\u001b[39mcolumns\u001b[39m\u001b[39m\"\u001b[39m: columns}, dtype\u001b[39m=\u001b[39mdtype, copy\u001b[39m=\u001b[39mcopy\n\u001b[1;32m    <a href='file:///home/prajwal/Documents/robosuite/.venv/lib/python3.8/site-packages/pandas/core/frame.py?line=631'>632</a>\u001b[0m     )\n\u001b[1;32m    <a href='file:///home/prajwal/Documents/robosuite/.venv/lib/python3.8/site-packages/pandas/core/frame.py?line=633'>634</a>\u001b[0m \u001b[39melif\u001b[39;00m \u001b[39misinstance\u001b[39m(data, \u001b[39mdict\u001b[39m):\n\u001b[1;32m    <a href='file:///home/prajwal/Documents/robosuite/.venv/lib/python3.8/site-packages/pandas/core/frame.py?line=634'>635</a>\u001b[0m     \u001b[39m# GH#38939 de facto copy defaults to False only in non-dict cases\u001b[39;00m\n\u001b[0;32m--> <a href='file:///home/prajwal/Documents/robosuite/.venv/lib/python3.8/site-packages/pandas/core/frame.py?line=635'>636</a>\u001b[0m     mgr \u001b[39m=\u001b[39m dict_to_mgr(data, index, columns, dtype\u001b[39m=\u001b[39;49mdtype, copy\u001b[39m=\u001b[39;49mcopy, typ\u001b[39m=\u001b[39;49mmanager)\n\u001b[1;32m    <a href='file:///home/prajwal/Documents/robosuite/.venv/lib/python3.8/site-packages/pandas/core/frame.py?line=636'>637</a>\u001b[0m \u001b[39melif\u001b[39;00m \u001b[39misinstance\u001b[39m(data, ma\u001b[39m.\u001b[39mMaskedArray):\n\u001b[1;32m    <a href='file:///home/prajwal/Documents/robosuite/.venv/lib/python3.8/site-packages/pandas/core/frame.py?line=637'>638</a>\u001b[0m     \u001b[39mimport\u001b[39;00m \u001b[39mnumpy\u001b[39;00m\u001b[39m.\u001b[39;00m\u001b[39mma\u001b[39;00m\u001b[39m.\u001b[39;00m\u001b[39mmrecords\u001b[39;00m \u001b[39mas\u001b[39;00m \u001b[39mmrecords\u001b[39;00m\n",
      "File \u001b[0;32m~/Documents/robosuite/.venv/lib/python3.8/site-packages/pandas/core/internals/construction.py:502\u001b[0m, in \u001b[0;36mdict_to_mgr\u001b[0;34m(data, index, columns, dtype, typ, copy)\u001b[0m\n\u001b[1;32m    <a href='file:///home/prajwal/Documents/robosuite/.venv/lib/python3.8/site-packages/pandas/core/internals/construction.py?line=493'>494</a>\u001b[0m     arrays \u001b[39m=\u001b[39m [\n\u001b[1;32m    <a href='file:///home/prajwal/Documents/robosuite/.venv/lib/python3.8/site-packages/pandas/core/internals/construction.py?line=494'>495</a>\u001b[0m         x\n\u001b[1;32m    <a href='file:///home/prajwal/Documents/robosuite/.venv/lib/python3.8/site-packages/pandas/core/internals/construction.py?line=495'>496</a>\u001b[0m         \u001b[39mif\u001b[39;00m \u001b[39mnot\u001b[39;00m \u001b[39mhasattr\u001b[39m(x, \u001b[39m\"\u001b[39m\u001b[39mdtype\u001b[39m\u001b[39m\"\u001b[39m) \u001b[39mor\u001b[39;00m \u001b[39mnot\u001b[39;00m \u001b[39misinstance\u001b[39m(x\u001b[39m.\u001b[39mdtype, ExtensionDtype)\n\u001b[1;32m    <a href='file:///home/prajwal/Documents/robosuite/.venv/lib/python3.8/site-packages/pandas/core/internals/construction.py?line=496'>497</a>\u001b[0m         \u001b[39melse\u001b[39;00m x\u001b[39m.\u001b[39mcopy()\n\u001b[1;32m    <a href='file:///home/prajwal/Documents/robosuite/.venv/lib/python3.8/site-packages/pandas/core/internals/construction.py?line=497'>498</a>\u001b[0m         \u001b[39mfor\u001b[39;00m x \u001b[39min\u001b[39;00m arrays\n\u001b[1;32m    <a href='file:///home/prajwal/Documents/robosuite/.venv/lib/python3.8/site-packages/pandas/core/internals/construction.py?line=498'>499</a>\u001b[0m     ]\n\u001b[1;32m    <a href='file:///home/prajwal/Documents/robosuite/.venv/lib/python3.8/site-packages/pandas/core/internals/construction.py?line=499'>500</a>\u001b[0m     \u001b[39m# TODO: can we get rid of the dt64tz special case above?\u001b[39;00m\n\u001b[0;32m--> <a href='file:///home/prajwal/Documents/robosuite/.venv/lib/python3.8/site-packages/pandas/core/internals/construction.py?line=501'>502</a>\u001b[0m \u001b[39mreturn\u001b[39;00m arrays_to_mgr(arrays, columns, index, dtype\u001b[39m=\u001b[39;49mdtype, typ\u001b[39m=\u001b[39;49mtyp, consolidate\u001b[39m=\u001b[39;49mcopy)\n",
      "File \u001b[0;32m~/Documents/robosuite/.venv/lib/python3.8/site-packages/pandas/core/internals/construction.py:120\u001b[0m, in \u001b[0;36marrays_to_mgr\u001b[0;34m(arrays, columns, index, dtype, verify_integrity, typ, consolidate)\u001b[0m\n\u001b[1;32m    <a href='file:///home/prajwal/Documents/robosuite/.venv/lib/python3.8/site-packages/pandas/core/internals/construction.py?line=116'>117</a>\u001b[0m \u001b[39mif\u001b[39;00m verify_integrity:\n\u001b[1;32m    <a href='file:///home/prajwal/Documents/robosuite/.venv/lib/python3.8/site-packages/pandas/core/internals/construction.py?line=117'>118</a>\u001b[0m     \u001b[39m# figure out the index, if necessary\u001b[39;00m\n\u001b[1;32m    <a href='file:///home/prajwal/Documents/robosuite/.venv/lib/python3.8/site-packages/pandas/core/internals/construction.py?line=118'>119</a>\u001b[0m     \u001b[39mif\u001b[39;00m index \u001b[39mis\u001b[39;00m \u001b[39mNone\u001b[39;00m:\n\u001b[0;32m--> <a href='file:///home/prajwal/Documents/robosuite/.venv/lib/python3.8/site-packages/pandas/core/internals/construction.py?line=119'>120</a>\u001b[0m         index \u001b[39m=\u001b[39m _extract_index(arrays)\n\u001b[1;32m    <a href='file:///home/prajwal/Documents/robosuite/.venv/lib/python3.8/site-packages/pandas/core/internals/construction.py?line=120'>121</a>\u001b[0m     \u001b[39melse\u001b[39;00m:\n\u001b[1;32m    <a href='file:///home/prajwal/Documents/robosuite/.venv/lib/python3.8/site-packages/pandas/core/internals/construction.py?line=121'>122</a>\u001b[0m         index \u001b[39m=\u001b[39m ensure_index(index)\n",
      "File \u001b[0;32m~/Documents/robosuite/.venv/lib/python3.8/site-packages/pandas/core/internals/construction.py:664\u001b[0m, in \u001b[0;36m_extract_index\u001b[0;34m(data)\u001b[0m\n\u001b[1;32m    <a href='file:///home/prajwal/Documents/robosuite/.venv/lib/python3.8/site-packages/pandas/core/internals/construction.py?line=660'>661</a>\u001b[0m         \u001b[39mraise\u001b[39;00m \u001b[39mValueError\u001b[39;00m(\u001b[39m\"\u001b[39m\u001b[39mPer-column arrays must each be 1-dimensional\u001b[39m\u001b[39m\"\u001b[39m)\n\u001b[1;32m    <a href='file:///home/prajwal/Documents/robosuite/.venv/lib/python3.8/site-packages/pandas/core/internals/construction.py?line=662'>663</a>\u001b[0m \u001b[39mif\u001b[39;00m \u001b[39mnot\u001b[39;00m indexes \u001b[39mand\u001b[39;00m \u001b[39mnot\u001b[39;00m raw_lengths:\n\u001b[0;32m--> <a href='file:///home/prajwal/Documents/robosuite/.venv/lib/python3.8/site-packages/pandas/core/internals/construction.py?line=663'>664</a>\u001b[0m     \u001b[39mraise\u001b[39;00m \u001b[39mValueError\u001b[39;00m(\u001b[39m\"\u001b[39m\u001b[39mIf using all scalar values, you must pass an index\u001b[39m\u001b[39m\"\u001b[39m)\n\u001b[1;32m    <a href='file:///home/prajwal/Documents/robosuite/.venv/lib/python3.8/site-packages/pandas/core/internals/construction.py?line=665'>666</a>\u001b[0m \u001b[39melif\u001b[39;00m have_series:\n\u001b[1;32m    <a href='file:///home/prajwal/Documents/robosuite/.venv/lib/python3.8/site-packages/pandas/core/internals/construction.py?line=666'>667</a>\u001b[0m     index \u001b[39m=\u001b[39m union_indexes(indexes)\n",
      "\u001b[0;31mValueError\u001b[0m: If using all scalar values, you must pass an index"
     ]
    }
   ],
   "source": [
    "import numpy as np\n",
    "import robosuite as suite\n",
    "from robosuite.controllers import load_controller_config\n",
    "import pandas as pd\n",
    "\n",
    "\n",
    "\n",
    "controller_config = load_controller_config(default_controller=\"OSC_POSE\")\n",
    "controller_config[\"control_delta\"] = False # This will make action inputs relate to global frame \n",
    "# print(controller_config)\n",
    "df = pd.read_csv(\"/home/prajwal/Documents/robosuite/sampleInputsRobo - Sheet1.csv\")\n",
    "df1 = df[df[\"Label\"] == \"LABEL1\"]\n",
    "df2 = df[df[\"Label\"] == \"LABEL2\"]\n",
    "dfLst = [df1, df2]\n",
    "# create environment instance\n",
    "env = suite.make(\n",
    "    env_name=\"Lift\", # try with other tasks like \"Stack\" and \"Door\"\n",
    "    robots=\"Panda\",\n",
    "    controller_configs=controller_config,  # try with other robots like \"Sawyer\" and \"Jaco\"\n",
    "    has_renderer=False,\n",
    "    has_offscreen_renderer=True,\n",
    "    use_camera_obs=False,\n",
    "    control_freq=200,                        # 20 hz control for applied actions\n",
    "    horizon=2000,\n",
    ")\n",
    "\n",
    "# reset the environment\n",
    "\n",
    " # [x,y,z,roll,pitch,yaw,gripper] not super sure on orientation tho \n",
    "# print(tempArr)\n",
    "\n",
    "tempLst = []\n",
    "hashMap = {}\n",
    "newDf = pd.DataFrame(columns=['Label', 'relativeCycleTime', 'robo_pos_cos_x', 'robo_pos_cos_y', 'robo_pos_cos_z','robo_pos_cos_roll', \n",
    "'robo_pos_cos_pitch', 'robo_pos_cos_yaw','eef_x', 'eef_y', 'eef_z'])\n",
    "for df in dfLst:\n",
    "    hashMap[df.iloc[0][\"Label\"]] = {}\n",
    "    for i in range(len(df)):\n",
    "        hashMap[df.iloc[0][\"Label\"]][i] = []\n",
    "        action = [df.iloc[i][\"x_pos\"], df.iloc[i][\"y_pos\"], df.iloc[i][\"z_pos\"], np.pi, 0, 0, -0.5]\n",
    "        env.reset()\n",
    "        obs= None\n",
    "        for j in range(2000):\n",
    "            obs, reward, done, info = env.step(action)\n",
    "            # env.render()\n",
    "            robo_x, robo_y, robo_z, roll, pitch, yaw, grip = obs['robot0_joint_pos_cos']\n",
    "            eff_x, eff_y, eff_z = obs['robot0_eef_pos']\n",
    "            tempDf = pd.DataFrame({'Label': df.iloc[0][\"Label\"], 'relativeCycleTime': j/200, 'robo_pos_cos_x': robo_x, 'robo_pos_cos_y': robo_y, 'robo_pos_cos_z': robo_z, 'robo_pos_cos_roll':roll,  'robo_pos_cos_pitch': pitch,\n",
    "            'robo_pos_cos_yaw': yaw, 'eef_x': eff_x, 'eef_y': eff_y, 'eef_z': eff_z})\n",
    "            tempSeries = pd.Series([df.iloc[0][\"Label\"], j/200, robo_x, robo_y, robo_z, roll, pitch, yaw, eff_x, eff_y, eff_z], name='temp')\n",
    "            print(tempDf)\n",
    "            newDf = newDf.merge(tempDf)\n",
    "            tempOBSVar = obs[list(obs.keys())[0]]\n",
    "            tempLst.append(obs[list(obs.keys())[0]])\n",
    "\n",
    "newDf.to_csv(\"output_V1.csv\")\n"
   ]
  },
  {
   "cell_type": "code",
   "execution_count": null,
   "metadata": {},
   "outputs": [
    {
     "data": {
      "text/html": [
       "<div>\n",
       "<style scoped>\n",
       "    .dataframe tbody tr th:only-of-type {\n",
       "        vertical-align: middle;\n",
       "    }\n",
       "\n",
       "    .dataframe tbody tr th {\n",
       "        vertical-align: top;\n",
       "    }\n",
       "\n",
       "    .dataframe thead th {\n",
       "        text-align: right;\n",
       "    }\n",
       "</style>\n",
       "<table border=\"1\" class=\"dataframe\">\n",
       "  <thead>\n",
       "    <tr style=\"text-align: right;\">\n",
       "      <th></th>\n",
       "      <th>Label</th>\n",
       "      <th>relativeCycleTime</th>\n",
       "      <th>robo_pos_cos_x</th>\n",
       "      <th>robo_pos_cos_y</th>\n",
       "      <th>robo_pos_cos_z</th>\n",
       "      <th>robo_pos_cos_roll</th>\n",
       "      <th>robo_pos_cos_pitch</th>\n",
       "      <th>robo_pos_cos_yaw</th>\n",
       "      <th>eef_x</th>\n",
       "      <th>eef_y</th>\n",
       "      <th>eef_z</th>\n",
       "    </tr>\n",
       "  </thead>\n",
       "  <tbody>\n",
       "  </tbody>\n",
       "</table>\n",
       "</div>"
      ],
      "text/plain": [
       "Empty DataFrame\n",
       "Columns: [Label, relativeCycleTime, robo_pos_cos_x, robo_pos_cos_y, robo_pos_cos_z, robo_pos_cos_roll, robo_pos_cos_pitch, robo_pos_cos_yaw, eef_x, eef_y, eef_z]\n",
       "Index: []"
      ]
     },
     "execution_count": 2,
     "metadata": {},
     "output_type": "execute_result"
    }
   ],
   "source": [
    "newDf"
   ]
  }
 ],
 "metadata": {
  "kernelspec": {
   "display_name": "Python 3",
   "language": "python",
   "name": "python3"
  },
  "language_info": {
   "codemirror_mode": {
    "name": "ipython",
    "version": 3
   },
   "file_extension": ".py",
   "mimetype": "text/x-python",
   "name": "python",
   "nbconvert_exporter": "python",
   "pygments_lexer": "ipython3",
   "version": "3.8.10"
  }
 },
 "nbformat": 4,
 "nbformat_minor": 4
}
